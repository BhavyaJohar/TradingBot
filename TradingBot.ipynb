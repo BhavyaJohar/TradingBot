{
  "nbformat": 4,
  "nbformat_minor": 0,
  "metadata": {
    "colab": {
      "provenance": []
    },
    "kernelspec": {
      "name": "python3",
      "display_name": "Python 3"
    },
    "language_info": {
      "name": "python"
    }
  },
  "cells": [
    {
      "cell_type": "markdown",
      "source": [
        "# Overview"
      ],
      "metadata": {
        "id": "MaRJzL4JzUCu"
      }
    },
    {
      "cell_type": "markdown",
      "source": [
        "This project aims to create a trading bot that implements a high frequency trading strategy. Currently it trades SPY and uses a variety of technical indicators such as rolling averages, RSI, MACD, and Bollinger Bands. The bot only trades during market hours due to liquidity. I'm going to continue to test different strategies and see which ones generate the greatest return. I'm also going to test which stocks are better for the bot. To start off, I chose the SPY ETF becuase of its high implied volatility. I predict that the bot will generate greater returns by trading securities that make bigger moves on a day to day basis."
      ],
      "metadata": {
        "id": "vEHkJ6mCzX4k"
      }
    },
    {
      "cell_type": "markdown",
      "source": [
        "# Install Necessary Packages"
      ],
      "metadata": {
        "id": "omZdqZ9WsL3p"
      }
    },
    {
      "cell_type": "code",
      "execution_count": 17,
      "metadata": {
        "colab": {
          "base_uri": "https://localhost:8080/"
        },
        "id": "xIv5vH7USZpQ",
        "outputId": "0428344d-a708-4072-9c40-b8fd85496826"
      },
      "outputs": [
        {
          "output_type": "stream",
          "name": "stdout",
          "text": [
            "Requirement already satisfied: pandas in /usr/local/lib/python3.10/dist-packages (2.0.3)\n",
            "Requirement already satisfied: numpy in /usr/local/lib/python3.10/dist-packages (1.25.2)\n",
            "Requirement already satisfied: pandas_ta in /usr/local/lib/python3.10/dist-packages (0.3.14b0)\n",
            "Requirement already satisfied: alpaca-trade-api in /usr/local/lib/python3.10/dist-packages (3.2.0)\n",
            "Requirement already satisfied: python-dateutil>=2.8.2 in /usr/local/lib/python3.10/dist-packages (from pandas) (2.8.2)\n",
            "Requirement already satisfied: pytz>=2020.1 in /usr/local/lib/python3.10/dist-packages (from pandas) (2023.4)\n",
            "Requirement already satisfied: tzdata>=2022.1 in /usr/local/lib/python3.10/dist-packages (from pandas) (2024.1)\n",
            "Requirement already satisfied: requests<3,>2 in /usr/local/lib/python3.10/dist-packages (from alpaca-trade-api) (2.31.0)\n",
            "Requirement already satisfied: urllib3<2,>1.24 in /usr/local/lib/python3.10/dist-packages (from alpaca-trade-api) (1.26.18)\n",
            "Requirement already satisfied: websocket-client<2,>=0.56.0 in /usr/local/lib/python3.10/dist-packages (from alpaca-trade-api) (1.8.0)\n",
            "Requirement already satisfied: websockets<11,>=9.0 in /usr/local/lib/python3.10/dist-packages (from alpaca-trade-api) (10.4)\n",
            "Requirement already satisfied: msgpack==1.0.3 in /usr/local/lib/python3.10/dist-packages (from alpaca-trade-api) (1.0.3)\n",
            "Requirement already satisfied: aiohttp<4,>=3.8.3 in /usr/local/lib/python3.10/dist-packages (from alpaca-trade-api) (3.9.5)\n",
            "Requirement already satisfied: PyYAML==6.0.1 in /usr/local/lib/python3.10/dist-packages (from alpaca-trade-api) (6.0.1)\n",
            "Requirement already satisfied: deprecation==2.1.0 in /usr/local/lib/python3.10/dist-packages (from alpaca-trade-api) (2.1.0)\n",
            "Requirement already satisfied: packaging in /usr/local/lib/python3.10/dist-packages (from deprecation==2.1.0->alpaca-trade-api) (24.1)\n",
            "Requirement already satisfied: aiosignal>=1.1.2 in /usr/local/lib/python3.10/dist-packages (from aiohttp<4,>=3.8.3->alpaca-trade-api) (1.3.1)\n",
            "Requirement already satisfied: attrs>=17.3.0 in /usr/local/lib/python3.10/dist-packages (from aiohttp<4,>=3.8.3->alpaca-trade-api) (23.2.0)\n",
            "Requirement already satisfied: frozenlist>=1.1.1 in /usr/local/lib/python3.10/dist-packages (from aiohttp<4,>=3.8.3->alpaca-trade-api) (1.4.1)\n",
            "Requirement already satisfied: multidict<7.0,>=4.5 in /usr/local/lib/python3.10/dist-packages (from aiohttp<4,>=3.8.3->alpaca-trade-api) (6.0.5)\n",
            "Requirement already satisfied: yarl<2.0,>=1.0 in /usr/local/lib/python3.10/dist-packages (from aiohttp<4,>=3.8.3->alpaca-trade-api) (1.9.4)\n",
            "Requirement already satisfied: async-timeout<5.0,>=4.0 in /usr/local/lib/python3.10/dist-packages (from aiohttp<4,>=3.8.3->alpaca-trade-api) (4.0.3)\n",
            "Requirement already satisfied: six>=1.5 in /usr/local/lib/python3.10/dist-packages (from python-dateutil>=2.8.2->pandas) (1.16.0)\n",
            "Requirement already satisfied: charset-normalizer<4,>=2 in /usr/local/lib/python3.10/dist-packages (from requests<3,>2->alpaca-trade-api) (3.3.2)\n",
            "Requirement already satisfied: idna<4,>=2.5 in /usr/local/lib/python3.10/dist-packages (from requests<3,>2->alpaca-trade-api) (3.7)\n",
            "Requirement already satisfied: certifi>=2017.4.17 in /usr/local/lib/python3.10/dist-packages (from requests<3,>2->alpaca-trade-api) (2024.6.2)\n"
          ]
        }
      ],
      "source": [
        "pip install pandas numpy pandas_ta alpaca-trade-api"
      ]
    },
    {
      "cell_type": "markdown",
      "source": [
        "# Import Libraries and Initialize API"
      ],
      "metadata": {
        "id": "4dPp7_s6sRVk"
      }
    },
    {
      "cell_type": "code",
      "source": [
        "import alpaca_trade_api as tradeapi\n",
        "import pandas as pd\n",
        "import numpy as np\n",
        "import pandas_ta as ta\n",
        "import time\n",
        "\n",
        "# Initialize Alpaca API\n",
        "api = tradeapi.REST('PKVBLESV0BDW3WA084CL', 'Bxrojd5FvQApXh0QK25bo1phmTh9nh7he1pC4eF1', base_url='https://paper-api.alpaca.markets')"
      ],
      "metadata": {
        "id": "HufMvDjNn4P4"
      },
      "execution_count": 18,
      "outputs": []
    },
    {
      "cell_type": "markdown",
      "source": [
        "# Check Market Status"
      ],
      "metadata": {
        "id": "6kTyxCVQuL70"
      }
    },
    {
      "cell_type": "code",
      "source": [
        "# Function to check if the market is open\n",
        "def is_market_open():\n",
        "    clock = api.get_clock()\n",
        "    return clock.is_open\n",
        "\n",
        "# Function to wait until the market opens\n",
        "def wait_for_market_open():\n",
        "    while not is_market_open():\n",
        "        print(\"Market is closed. Waiting for market to open...\")\n",
        "        time.sleep(60)"
      ],
      "metadata": {
        "id": "UNIlRFFKuN2b"
      },
      "execution_count": 24,
      "outputs": []
    },
    {
      "cell_type": "markdown",
      "source": [
        "# Fetch Historical Data"
      ],
      "metadata": {
        "id": "WI13GVsosSK5"
      }
    },
    {
      "cell_type": "code",
      "source": [
        "# Function to fetch historical data for SPY\n",
        "def fetch_historical_data(symbol, timeframe, start_date, end_date):\n",
        "    try:\n",
        "        barset = api.get_bars(symbol, timeframe, start=start_date, end=end_date)\n",
        "        data = barset.df\n",
        "        if data is None or data.empty:\n",
        "            print(f\"No data fetched for {symbol} from {start_date} to {end_date}\")\n",
        "            return None\n",
        "        data.columns = [col.split('_')[0] for col in data.columns]  # Ensure single-level column index\n",
        "        return data\n",
        "    except tradeapi.rest.APIError as e:\n",
        "        print(f\"APIError: {e}\")\n",
        "        return None\n",
        "\n",
        "# Fetch historical 1-minute data for SPY\n",
        "symbol = \"SPY\"\n",
        "timeframe = \"1Min\"\n",
        "start_date = \"2023-05-01\"\n",
        "end_date = \"2023-05-31\"\n",
        "data = fetch_historical_data(symbol, timeframe, start_date, end_date)\n",
        "\n",
        "if data is not None:\n",
        "    print(data.head())\n",
        "else:\n",
        "    print(\"Failed to fetch historical data.\")"
      ],
      "metadata": {
        "colab": {
          "base_uri": "https://localhost:8080/"
        },
        "id": "ZbrfE1lrqvOw",
        "outputId": "a1c189e2-8431-4637-f6e4-4033b4fa8f2a"
      },
      "execution_count": 25,
      "outputs": [
        {
          "output_type": "stream",
          "name": "stdout",
          "text": [
            "                            close    high     low  trade    open  volume  \\\n",
            "timestamp                                                                  \n",
            "2023-05-01 08:00:00+00:00  416.07  416.15  416.07     86  416.15   52935   \n",
            "2023-05-01 08:01:00+00:00  416.07  416.07  416.07     30  416.07   22205   \n",
            "2023-05-01 08:02:00+00:00  416.14  416.15  416.14     30  416.15   25508   \n",
            "2023-05-01 08:04:00+00:00  416.12  416.12  416.12      6  416.12    1001   \n",
            "2023-05-01 08:05:00+00:00  416.11  416.11  416.10     23  416.10   18856   \n",
            "\n",
            "                                 vwap  \n",
            "timestamp                              \n",
            "2023-05-01 08:00:00+00:00  416.121872  \n",
            "2023-05-01 08:01:00+00:00  416.069999  \n",
            "2023-05-01 08:02:00+00:00  416.149907  \n",
            "2023-05-01 08:04:00+00:00  416.119860  \n",
            "2023-05-01 08:05:00+00:00  416.109917  \n"
          ]
        }
      ]
    },
    {
      "cell_type": "markdown",
      "source": [
        "# Calculate Technical Indicators"
      ],
      "metadata": {
        "id": "2rDwjnPJsTnG"
      }
    },
    {
      "cell_type": "code",
      "source": [
        "if data is not None:\n",
        "    # Define rolling windows\n",
        "    short_window = 5  # 5-minute rolling average\n",
        "    long_window = 20  # 20-minute rolling average\n",
        "\n",
        "    # Calculate rolling averages\n",
        "    data['short_ma'] = data['close'].rolling(window=short_window).mean()\n",
        "    data['long_ma'] = data['close'].rolling(window=long_window).mean()\n",
        "\n",
        "    # Calculate RSI\n",
        "    data['rsi'] = ta.rsi(data['close'], length=14)\n",
        "\n",
        "    # Calculate MACD\n",
        "    macd = ta.macd(data['close'], fast=12, slow=26, signal=9)\n",
        "    data['macd'] = macd['MACD_12_26_9']\n",
        "    data['macd_signal'] = macd['MACDs_12_26_9']\n",
        "    data['macd_hist'] = macd['MACDh_12_26_9']\n",
        "\n",
        "    # Calculate Bollinger Bands\n",
        "    bollinger = ta.bbands(data['close'], length=20, std=2)\n",
        "    data['upper_band'] = bollinger['BBU_20_2.0']\n",
        "    data['middle_band'] = bollinger['BBM_20_2.0']\n",
        "    data['lower_band'] = bollinger['BBL_20_2.0']\n",
        "\n",
        "    # Generate signals\n",
        "    data['signal'] = 0\n",
        "    data['signal'][short_window:] = np.where((data['short_ma'][short_window:] > data['long_ma'][short_window:]) &\n",
        "                                             (data['rsi'][short_window:] < 70) &\n",
        "                                             (data['macd_hist'][short_window:] > 0) &\n",
        "                                             (data['close'][short_window:] < data['upper_band'][short_window:]), 1, 0)\n",
        "    data['signal'][short_window:] = np.where((data['short_ma'][short_window:] < data['long_ma'][short_window:]) &\n",
        "                                             (data['rsi'][short_window:] > 30) &\n",
        "                                             (data['macd_hist'][short_window:] < 0) &\n",
        "                                             (data['close'][short_window:] > data['lower_band'][short_window:]), -1, data['signal'][short_window:])\n",
        "\n",
        "    data['position'] = data['signal'].diff()\n",
        "\n",
        "    # Drop rows with NaN values\n",
        "    data.dropna(inplace=True)\n",
        "\n",
        "    # Check the structure of the data with signals\n",
        "    print(data.head())"
      ],
      "metadata": {
        "colab": {
          "base_uri": "https://localhost:8080/"
        },
        "id": "yvsVfsnsq9gw",
        "outputId": "9630fb7a-ba15-4aee-a459-cbdb29f57775"
      },
      "execution_count": 26,
      "outputs": [
        {
          "output_type": "stream",
          "name": "stdout",
          "text": [
            "                            close    high     low  trade    open  volume  \\\n",
            "timestamp                                                                  \n",
            "2023-05-01 08:47:00+00:00  415.79  415.79  415.79      5  415.79     195   \n",
            "2023-05-01 08:48:00+00:00  415.78  415.78  415.78      3  415.78     193   \n",
            "2023-05-01 08:49:00+00:00  415.78  415.78  415.78      4  415.78     219   \n",
            "2023-05-01 08:53:00+00:00  415.75  415.75  415.75      2  415.75     302   \n",
            "2023-05-01 08:54:00+00:00  415.78  415.78  415.78      2  415.78     135   \n",
            "\n",
            "                                 vwap  short_ma   long_ma        rsi  \\\n",
            "timestamp                                                              \n",
            "2023-05-01 08:47:00+00:00  415.790667   415.722  415.7105  52.149064   \n",
            "2023-05-01 08:48:00+00:00  415.779948   415.746  415.7145  51.014289   \n",
            "2023-05-01 08:49:00+00:00  415.788311   415.762  415.7200  51.014289   \n",
            "2023-05-01 08:53:00+00:00  415.749868   415.770  415.7215  47.423826   \n",
            "2023-05-01 08:54:00+00:00  415.798148   415.776  415.7245  51.128095   \n",
            "\n",
            "                               macd  macd_signal  macd_hist  upper_band  \\\n",
            "timestamp                                                                 \n",
            "2023-05-01 08:47:00+00:00 -0.069899    -0.105750   0.035851  415.853115   \n",
            "2023-05-01 08:48:00+00:00 -0.059644    -0.096529   0.036885  415.860167   \n",
            "2023-05-01 08:49:00+00:00 -0.050930    -0.087409   0.036479  415.866833   \n",
            "2023-05-01 08:53:00+00:00 -0.045915    -0.079110   0.033195  415.868914   \n",
            "2023-05-01 08:54:00+00:00 -0.039070    -0.071102   0.032032  415.874096   \n",
            "\n",
            "                           middle_band  lower_band  signal  position  \n",
            "timestamp                                                             \n",
            "2023-05-01 08:47:00+00:00     415.7105  415.567885       1       1.0  \n",
            "2023-05-01 08:48:00+00:00     415.7145  415.568833       1       0.0  \n",
            "2023-05-01 08:49:00+00:00     415.7200  415.573167       1       0.0  \n",
            "2023-05-01 08:53:00+00:00     415.7215  415.574086       1       0.0  \n",
            "2023-05-01 08:54:00+00:00     415.7245  415.574904       1       0.0  \n"
          ]
        },
        {
          "output_type": "stream",
          "name": "stderr",
          "text": [
            "<ipython-input-26-190be6d39334>:27: SettingWithCopyWarning: \n",
            "A value is trying to be set on a copy of a slice from a DataFrame\n",
            "\n",
            "See the caveats in the documentation: https://pandas.pydata.org/pandas-docs/stable/user_guide/indexing.html#returning-a-view-versus-a-copy\n",
            "  data['signal'][short_window:] = np.where((data['short_ma'][short_window:] > data['long_ma'][short_window:]) &\n",
            "<ipython-input-26-190be6d39334>:31: SettingWithCopyWarning: \n",
            "A value is trying to be set on a copy of a slice from a DataFrame\n",
            "\n",
            "See the caveats in the documentation: https://pandas.pydata.org/pandas-docs/stable/user_guide/indexing.html#returning-a-view-versus-a-copy\n",
            "  data['signal'][short_window:] = np.where((data['short_ma'][short_window:] < data['long_ma'][short_window:]) &\n"
          ]
        }
      ]
    },
    {
      "cell_type": "markdown",
      "source": [
        "# Backtest the Strategy"
      ],
      "metadata": {
        "id": "mFhOiztAsVIR"
      }
    },
    {
      "cell_type": "code",
      "source": [
        "if data is not None:\n",
        "    # Define initial capital and positions\n",
        "    initial_capital = 100000.0\n",
        "    positions = pd.DataFrame(index=data.index).fillna(0.0)\n",
        "    positions[symbol] = data['signal']\n",
        "\n",
        "    # Calculate portfolio values\n",
        "    portfolio = positions.multiply(data['close'], axis=0)\n",
        "    pos_diff = positions.diff()\n",
        "    portfolio['holdings'] = (positions.multiply(data['close'], axis=0)).sum(axis=1)\n",
        "    portfolio['cash'] = initial_capital - (pos_diff.multiply(data['close'], axis=0)).sum(axis=1).cumsum()\n",
        "    portfolio['total'] = portfolio['cash'] + portfolio['holdings']\n",
        "\n",
        "    # Print final portfolio value and ROI\n",
        "    final_value = portfolio['total'].iloc[-1]\n",
        "    print(f'Final portfolio value: ${final_value:.2f}')\n",
        "    print(f'Return on investment: {((final_value / initial_capital) - 1) * 100:.2f}%')"
      ],
      "metadata": {
        "colab": {
          "base_uri": "https://localhost:8080/"
        },
        "id": "upz5CzAjrAZU",
        "outputId": "a023fe21-5c3b-4d81-9854-170c0673c86e"
      },
      "execution_count": 27,
      "outputs": [
        {
          "output_type": "stream",
          "name": "stdout",
          "text": [
            "Final portfolio value: $100402.68\n",
            "Return on investment: 0.40%\n"
          ]
        }
      ]
    },
    {
      "cell_type": "markdown",
      "source": [
        "# Live Trading Function"
      ],
      "metadata": {
        "id": "ojU85mFTsmTg"
      }
    },
    {
      "cell_type": "code",
      "source": [
        "# Define risk management parameters\n",
        "initial_cash = 100000.0\n",
        "cash = initial_cash\n",
        "shares = 0\n",
        "stop_loss_pct = 0.01  # 1% stop-loss\n",
        "take_profit_pct = 0.02  # 2% take-profit\n",
        "max_position_size_pct = 0.1  # Max position size as a percentage of cash\n",
        "\n",
        "# Function to execute trades\n",
        "def execute_trade(symbol, current_price, signal, cash, shares):\n",
        "    qty = int((cash * max_position_size_pct) // current_price)\n",
        "    if signal == 1 and cash > current_price:  # Buy signal\n",
        "        api.submit_order(\n",
        "            symbol=symbol,\n",
        "            qty=qty,\n",
        "            side='buy',\n",
        "            type='market',\n",
        "            time_in_force='gtc'\n",
        "        )\n",
        "        shares += qty\n",
        "        cash -= qty * current_price\n",
        "    elif signal == -1 and shares > 0:  # Sell signal\n",
        "        api.submit_order(\n",
        "            symbol=symbol,\n",
        "            qty=shares,\n",
        "            side='sell',\n",
        "            type='market',\n",
        "            time_in_force='gtc'\n",
        "        )\n",
        "        cash += shares * current_price\n",
        "        shares = 0\n",
        "    return cash, shares"
      ],
      "metadata": {
        "id": "3xEPcSQNrEl_"
      },
      "execution_count": 28,
      "outputs": []
    },
    {
      "cell_type": "markdown",
      "source": [
        "# Live Trading"
      ],
      "metadata": {
        "id": "nDawWg05sWRm"
      }
    },
    {
      "cell_type": "code",
      "source": [
        "# Wait for the market to open before starting live trading\n",
        "wait_for_market_open()\n",
        "\n",
        "# Live trading with advanced risk management\n",
        "while True:\n",
        "    try:\n",
        "        # Ensure the market is open\n",
        "        if not is_market_open():\n",
        "            print(\"Market is closed. Waiting for market to open...\")\n",
        "            time.sleep(60)\n",
        "            continue\n",
        "\n",
        "        # Fetch latest 1-minute data for SPY\n",
        "        latest_data = api.get_bars(symbol, '1Min', limit=long_window + 1).df\n",
        "        if latest_data is None or latest_data.empty:\n",
        "            raise ValueError(\"No data fetched\")\n",
        "\n",
        "        latest_data.columns = [col.split('_')[0] for col in latest_data.columns]\n",
        "\n",
        "        # Calculate rolling averages\n",
        "        latest_data['short_ma'] = latest_data['close'].rolling(window=short_window).mean()\n",
        "        latest_data['long_ma'] = latest_data['close'].rolling(window=long_window).mean()\n",
        "\n",
        "        # Calculate RSI\n",
        "        latest_data['rsi'] = ta.rsi(latest_data['close'], length=14)\n",
        "\n",
        "        # Calculate MACD\n",
        "        macd = ta.macd(latest_data['close'], fast=12, slow=26, signal=9)\n",
        "        latest_data['macd'] = macd['MACD_12_26_9']\n",
        "        latest_data['macd_signal'] = macd['MACDs_12_26_9']\n",
        "        latest_data['macd_hist'] = macd['MACDh_12_26_9']\n",
        "\n",
        "        # Calculate Bollinger Bands\n",
        "        bollinger = ta.bbands(latest_data['close'], length=20, std=2)\n",
        "        latest_data['upper_band'] = bollinger['BBU_20_2.0']\n",
        "        latest_data['middle_band'] = bollinger['BBM_20_2.0']\n",
        "        latest_data['lower_band'] = bollinger['BBL_20_2.0']\n",
        "\n",
        "        # Check if the latest data has enough data points for indicators\n",
        "        if latest_data.shape[0] < long_window + 1:\n",
        "            raise ValueError(\"Insufficient data points\")\n",
        "\n",
        "        # Get the latest price and signals\n",
        "        current_price = latest_data['close'].iloc[-1]\n",
        "        short_ma = latest_data['short_ma'].iloc[-1]\n",
        "        long_ma = latest_data['long_ma'].iloc[-1]\n",
        "        rsi = latest_data['rsi'].iloc[-1]\n",
        "        macd_hist = latest_data['macd_hist'].iloc[-1]\n",
        "        upper_band = latest_data['upper_band'].iloc[-1]\n",
        "        lower_band = latest_data['lower_band'].iloc[-1]\n",
        "\n",
        "        # Debug information\n",
        "        print(f\"Current Price: {current_price}\")\n",
        "        print(f\"Short MA: {short_ma}, Long MA: {long_ma}\")\n",
        "        print(f\"RSI: {rsi}, MACD Hist: {macd_hist}\")\n",
        "        print(f\"Upper Band: {upper_band}, Lower Band: {lower_band}\")\n",
        "\n",
        "        # Generate trading signal\n",
        "        if (short_ma > long_ma) and (rsi < 70) and (macd_hist > 0) and (current_price < upper_band):\n",
        "            signal = 1\n",
        "        elif (short_ma < long_ma) and (rsi > 30) and (macd_hist < 0) and (current_price > lower_band):\n",
        "            signal = -1\n",
        "        else:\n",
        "            signal = 0\n",
        "\n",
        "        # Execute trade based on signal\n",
        "        cash, shares = execute_trade(symbol, current_price, signal, cash, shares)\n",
        "\n",
        "        # Risk management: stop-loss and take-profit\n",
        "        if shares > 0:\n",
        "            stop_loss_price = current_price * (1 - stop_loss_pct)\n",
        "            take_profit_price = current_price * (1 + take_profit_pct)\n",
        "\n",
        "            if current_price <= stop_loss_price or current_price >= take_profit_price:\n",
        "                api.submit_order(\n",
        "                    symbol=symbol,\n",
        "                    qty=shares,\n",
        "                    side='sell',\n",
        "                    type='market',\n",
        "                    time_in_force='gtc'\n",
        "                )\n",
        "                cash += shares * current_price\n",
        "                shares = 0\n",
        "\n",
        "        # Wait for the next minute (ensures we stay well within the API limit)\n",
        "        time.sleep(60)\n",
        "    except tradeapi.rest.APIError as e:\n",
        "        print(f\"APIError: {e}\")\n",
        "        time.sleep(60)  # Wait before retrying\n",
        "    except ValueError as e:\n",
        "        print(f\"ValueError: {e}\")\n",
        "        time.sleep(60)  # Wait before retrying\n",
        "    except Exception as e:\n",
        "        print(f\"Unexpected error: {e}\")\n",
        "        time.sleep(60)  # Wait before retrying"
      ],
      "metadata": {
        "colab": {
          "base_uri": "https://localhost:8080/",
          "height": 323
        },
        "id": "EXYdhBoLrHXP",
        "outputId": "ced4d694-56ad-4ce0-db2e-f87972c46d13"
      },
      "execution_count": 29,
      "outputs": [
        {
          "output_type": "stream",
          "name": "stdout",
          "text": [
            "Market is closed. Waiting for market to open...\n"
          ]
        },
        {
          "output_type": "error",
          "ename": "KeyboardInterrupt",
          "evalue": "",
          "traceback": [
            "\u001b[0;31m---------------------------------------------------------------------------\u001b[0m",
            "\u001b[0;31mKeyboardInterrupt\u001b[0m                         Traceback (most recent call last)",
            "\u001b[0;32m<ipython-input-29-6e64ea0aa950>\u001b[0m in \u001b[0;36m<cell line: 2>\u001b[0;34m()\u001b[0m\n\u001b[1;32m      1\u001b[0m \u001b[0;31m# Wait for the market to open before starting live trading\u001b[0m\u001b[0;34m\u001b[0m\u001b[0;34m\u001b[0m\u001b[0m\n\u001b[0;32m----> 2\u001b[0;31m \u001b[0mwait_for_market_open\u001b[0m\u001b[0;34m(\u001b[0m\u001b[0;34m)\u001b[0m\u001b[0;34m\u001b[0m\u001b[0;34m\u001b[0m\u001b[0m\n\u001b[0m\u001b[1;32m      3\u001b[0m \u001b[0;34m\u001b[0m\u001b[0m\n\u001b[1;32m      4\u001b[0m \u001b[0;31m# Live trading with advanced risk management\u001b[0m\u001b[0;34m\u001b[0m\u001b[0;34m\u001b[0m\u001b[0m\n\u001b[1;32m      5\u001b[0m \u001b[0;32mwhile\u001b[0m \u001b[0;32mTrue\u001b[0m\u001b[0;34m:\u001b[0m\u001b[0;34m\u001b[0m\u001b[0;34m\u001b[0m\u001b[0m\n",
            "\u001b[0;32m<ipython-input-24-6b4b4a483125>\u001b[0m in \u001b[0;36mwait_for_market_open\u001b[0;34m()\u001b[0m\n\u001b[1;32m      8\u001b[0m     \u001b[0;32mwhile\u001b[0m \u001b[0;32mnot\u001b[0m \u001b[0mis_market_open\u001b[0m\u001b[0;34m(\u001b[0m\u001b[0;34m)\u001b[0m\u001b[0;34m:\u001b[0m\u001b[0;34m\u001b[0m\u001b[0;34m\u001b[0m\u001b[0m\n\u001b[1;32m      9\u001b[0m         \u001b[0mprint\u001b[0m\u001b[0;34m(\u001b[0m\u001b[0;34m\"Market is closed. Waiting for market to open...\"\u001b[0m\u001b[0;34m)\u001b[0m\u001b[0;34m\u001b[0m\u001b[0;34m\u001b[0m\u001b[0m\n\u001b[0;32m---> 10\u001b[0;31m         \u001b[0mtime\u001b[0m\u001b[0;34m.\u001b[0m\u001b[0msleep\u001b[0m\u001b[0;34m(\u001b[0m\u001b[0;36m60\u001b[0m\u001b[0;34m)\u001b[0m\u001b[0;34m\u001b[0m\u001b[0;34m\u001b[0m\u001b[0m\n\u001b[0m",
            "\u001b[0;31mKeyboardInterrupt\u001b[0m: "
          ]
        }
      ]
    },
    {
      "cell_type": "code",
      "source": [],
      "metadata": {
        "id": "9CG0F_9ZrLIz"
      },
      "execution_count": null,
      "outputs": []
    }
  ]
}